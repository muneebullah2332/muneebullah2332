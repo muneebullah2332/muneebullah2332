{
 "cells": [
  {
   "cell_type": "code",
   "execution_count": 17,
   "metadata": {},
   "outputs": [
    {
     "name": "stderr",
     "output_type": "stream",
     "text": [
      "C:\\Users\\M-TT\\AppData\\Local\\Temp\\ipykernel_17888\\2283680145.py:9: FutureWarning: A value is trying to be set on a copy of a DataFrame or Series through chained assignment using an inplace method.\n",
      "The behavior will change in pandas 3.0. This inplace method will never work because the intermediate object on which we are setting values always behaves as a copy.\n",
      "\n",
      "For example, when doing 'df[col].method(value, inplace=True)', try using 'df.method({col: value}, inplace=True)' or df[col] = df[col].method(value) instead, to perform the operation inplace on the original object.\n",
      "\n",
      "\n",
      "  X['age'].fillna(X['age'].mean(), inplace=True)\n"
     ]
    }
   ],
   "source": [
    "import numpy as np\n",
    "import pandas as pd\n",
    "import seaborn as sns\n",
    "import matplotlib.pyplot as plt\n",
    "df = sns.load_dataset('titanic')\n",
    "X = df[['pclass', 'sex', 'age', 'sibsp', 'parch', 'fare']]\n",
    "y = df['survived']\n",
    "X = pd.get_dummies(X, columns=['sex'])\n",
    "X['age'].fillna(X['age'].mean(), inplace=True)"
   ]
  },
  {
   "cell_type": "code",
   "execution_count": 18,
   "metadata": {},
   "outputs": [],
   "source": [
    "from sklearn.linear_model import LogisticRegression\n",
    "from sklearn.svm import SVC\n",
    "from sklearn.tree import DecisionTreeClassifier\n",
    "from sklearn.ensemble import RandomForestClassifier\n",
    "from sklearn.neighbors import KNeighborsClassifier\n",
    "from sklearn.model_selection import train_test_split\n",
    "from sklearn.metrics import accuracy_score, f1_score, precision_score, recall_score"
   ]
  },
  {
   "cell_type": "code",
   "execution_count": 19,
   "metadata": {},
   "outputs": [
    {
     "name": "stdout",
     "output_type": "stream",
     "text": [
      "Accuracy_score:  logisticRegression : 0.81\n",
      "Accuracy_score:  RandomForestClassifier : 0.81\n",
      "Accuracy_score:  DecisionTreeClassifier : 0.77\n",
      "Accuracy_score:  KNN : 0.69\n",
      "Accuracy_score:  SVM : 0.66\n"
     ]
    }
   ],
   "source": [
    "X_train, X_test, y_train, y_test = train_test_split(X, y, test_size=0.2, random_state=42)\n",
    "\n",
    "models = [LogisticRegression(), SVC(), RandomForestClassifier(), DecisionTreeClassifier(), KNeighborsClassifier()]\n",
    "model_names = ['logisticRegression', 'SVM', 'RandomForestClassifier', 'DecisionTreeClassifier', 'KNN']\n",
    "\n",
    "models_scores = []\n",
    "for model, model_name in zip(models, model_names):\n",
    "    model.fit(X_train, y_train)\n",
    "    y_pred = model.predict(X_test)\n",
    "    accuracy = accuracy_score(y_test, y_pred)\n",
    "    models_scores.append([model_name, accuracy])\n",
    "    \n",
    "sorted_models = sorted(models_scores, key=lambda x:x[1], reverse=True)\n",
    "for model in sorted_models:\n",
    "    print(\"Accuracy_score: \", f'{model[0]} : {model[1]:.2f}')\n"
   ]
  },
  {
   "cell_type": "code",
   "execution_count": 23,
   "metadata": {},
   "outputs": [
    {
     "name": "stdout",
     "output_type": "stream",
     "text": [
      "Precision_score:  logisticRegression : 0.80\n",
      "Precision_score:  RandomForestClassifier : 0.77\n",
      "Precision_score:  SVM : 0.76\n",
      "Precision_score:  DecisionTreeClassifier : 0.70\n",
      "Precision_score:  KNN : 0.66\n"
     ]
    }
   ],
   "source": [
    "X_train, X_test, y_train, y_test = train_test_split(X, y, test_size=0.2, random_state=42)\n",
    "\n",
    "models = [LogisticRegression(), SVC(), RandomForestClassifier(), DecisionTreeClassifier(), KNeighborsClassifier()]\n",
    "model_names = ['logisticRegression', 'SVM', 'RandomForestClassifier', 'DecisionTreeClassifier', 'KNN']\n",
    "\n",
    "models_scores = []\n",
    "for model, model_name in zip(models, model_names):\n",
    "    model.fit(X_train, y_train)\n",
    "    y_pred = model.predict(X_test)\n",
    "    Precision = precision_score(y_test, y_pred)\n",
    "    models_scores.append([model_name, Precision])\n",
    "    \n",
    "sorted_models = sorted(models_scores, key=lambda x:x[1], reverse=True)\n",
    "for model in sorted_models:\n",
    "    print(\"Precision_score: \", f'{model[0]} : {model[1]:.2f}')"
   ]
  },
  {
   "cell_type": "code",
   "execution_count": 24,
   "metadata": {},
   "outputs": [
    {
     "name": "stdout",
     "output_type": "stream",
     "text": [
      "Recall_score:  RandomForestClassifier : 0.76\n",
      "Recall_score:  logisticRegression : 0.72\n",
      "Recall_score:  DecisionTreeClassifier : 0.69\n",
      "Recall_score:  KNN : 0.54\n",
      "Recall_score:  SVM : 0.26\n"
     ]
    }
   ],
   "source": [
    "X_train, X_test, y_train, y_test = train_test_split(X, y, test_size=0.2, random_state=42)\n",
    "\n",
    "models = [LogisticRegression(), SVC(), RandomForestClassifier(), DecisionTreeClassifier(), KNeighborsClassifier()]\n",
    "model_names = ['logisticRegression', 'SVM', 'RandomForestClassifier', 'DecisionTreeClassifier', 'KNN']\n",
    "\n",
    "models_scores = []\n",
    "for model, model_name in zip(models, model_names):\n",
    "    model.fit(X_train, y_train)\n",
    "    y_pred = model.predict(X_test)\n",
    "    Recall_score = recall_score(y_test, y_pred)\n",
    "    models_scores.append([model_name, Recall_score])\n",
    "    \n",
    "sorted_models = sorted(models_scores, key=lambda x:x[1], reverse=True)\n",
    "for model in sorted_models:\n",
    "    print(\"Recall_score: \", f'{model[0]} : {model[1]:.2f}')"
   ]
  },
  {
   "cell_type": "code",
   "execution_count": 25,
   "metadata": {},
   "outputs": [
    {
     "name": "stdout",
     "output_type": "stream",
     "text": [
      "F1_score:  logisticRegression : 0.76\n",
      "F1_score:  RandomForestClassifier : 0.76\n",
      "F1_score:  DecisionTreeClassifier : 0.71\n",
      "F1_score:  KNN : 0.59\n",
      "F1_score:  SVM : 0.38\n"
     ]
    }
   ],
   "source": [
    "X_train, X_test, y_train, y_test = train_test_split(X, y, test_size=0.2, random_state=42)\n",
    "\n",
    "models = [LogisticRegression(), SVC(), RandomForestClassifier(), DecisionTreeClassifier(), KNeighborsClassifier()]\n",
    "model_names = ['logisticRegression', 'SVM', 'RandomForestClassifier', 'DecisionTreeClassifier', 'KNN']\n",
    "\n",
    "models_scores = []\n",
    "for model, model_name in zip(models, model_names):\n",
    "    model.fit(X_train, y_train)\n",
    "    y_pred = model.predict(X_test)\n",
    "    F1_score = f1_score(y_test, y_pred)\n",
    "    models_scores.append([model_name, F1_score])\n",
    "    \n",
    "sorted_models = sorted(models_scores, key=lambda x:x[1], reverse=True)\n",
    "for model in sorted_models:\n",
    "    print(\"F1_score: \", f'{model[0]} : {model[1]:.2f}')"
   ]
  },
  {
   "cell_type": "code",
   "execution_count": null,
   "metadata": {},
   "outputs": [],
   "source": []
  }
 ],
 "metadata": {
  "kernelspec": {
   "display_name": "Python 3",
   "language": "python",
   "name": "python3"
  },
  "language_info": {
   "codemirror_mode": {
    "name": "ipython",
    "version": 3
   },
   "file_extension": ".py",
   "mimetype": "text/x-python",
   "name": "python",
   "nbconvert_exporter": "python",
   "pygments_lexer": "ipython3",
   "version": "3.12.3"
  }
 },
 "nbformat": 4,
 "nbformat_minor": 2
}
